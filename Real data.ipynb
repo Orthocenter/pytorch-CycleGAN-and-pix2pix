{
 "cells": [
  {
   "cell_type": "code",
   "execution_count": 1,
   "metadata": {
    "collapsed": true
   },
   "outputs": [],
   "source": [
    "import matplotlib.pyplot as plt\n",
    "import matplotlib.image as mpimg"
   ]
  },
  {
   "cell_type": "code",
   "execution_count": 2,
   "metadata": {
    "collapsed": true
   },
   "outputs": [],
   "source": [
    "import glob"
   ]
  },
  {
   "cell_type": "code",
   "execution_count": 3,
   "metadata": {
    "collapsed": false
   },
   "outputs": [],
   "source": [
    "files = glob.glob(\"/mnt/data/yanzi/xiaomi_vacuum_as_data_collector/data_parsed_all/*.pickle\")\n",
    "files_png = glob.glob(\"/mnt/data/yanzi/xiaomi_vacuum_as_data_collector/data_parsed_all/*.png\")"
   ]
  },
  {
   "cell_type": "code",
   "execution_count": 4,
   "metadata": {
    "collapsed": false
   },
   "outputs": [],
   "source": [
    "def file_info(fname):\n",
    "    parts = fname.split('/')[-1].split('_')\n",
    "    date, time, dev, mac, _, pkt_type, _ = parts[:7]\n",
    "    return date, time, dev, mac, pkt_type"
   ]
  },
  {
   "cell_type": "code",
   "execution_count": 6,
   "metadata": {
    "collapsed": true
   },
   "outputs": [],
   "source": [
    "import pickle\n",
    "import numpy as np"
   ]
  },
  {
   "cell_type": "code",
   "execution_count": 7,
   "metadata": {
    "collapsed": true
   },
   "outputs": [],
   "source": [
    "import os\n",
    "import sys\n",
    "sys.path.append(\"/home/gomezp/advloc\")\n",
    "from models import create_model\n",
    "from options.test_options import TestOptions\n",
    "import torch\n",
    "from data.rss_dataset import RSSDataset"
   ]
  },
  {
   "cell_type": "code",
   "execution_count": 8,
   "metadata": {
    "collapsed": false
   },
   "outputs": [
    {
     "name": "stdout",
     "output_type": "stream",
     "text": [
      "----------------- Options ---------------\n",
      "             aspect_ratio: 1.0                           \n",
      "               batch_size: 1                             \n",
      "             blocked_size: 0                             \n",
      "          checkpoints_dir: ./checkpoints                 \n",
      "                crop_size: 256                           \n",
      "                 dataroot: ''                            \t[default: None]\n",
      "             dataset_mode: rss                           \t[default: aligned]\n",
      "                direction: AtoB                          \n",
      "          display_winsize: 256                           \n",
      "                    epoch: latest                        \n",
      "                     eval: False                         \n",
      "                  gpu_ids: 1                             \t[default: 0]\n",
      "                init_gain: 0.02                          \n",
      "                init_type: normal                        \n",
      "                 input_nc: 1                             \t[default: 3]\n",
      "                  isTrain: False                         \t[default: None]\n",
      "                load_iter: 0                             \t[default: 0]\n",
      "                load_size: 256                           \n",
      "                  mask_cx: 32                            \n",
      "                  mask_cy: 32                            \n",
      "               max_B_size: inf                           \n",
      "         max_dataset_size: inf                           \n",
      "                    model: rssmap2rssmap                 \n",
      "               n_layers_D: 3                             \n",
      "                     name: rss_v3_8                      \t[default: experiment_name]\n",
      "                      ndf: 64                            \n",
      "                     netD: basic                         \n",
      "                     netG: unet_64                       \t[default: unet_256]\n",
      "                      ngf: 64                            \n",
      "               no_dropout: False                         \n",
      "                  no_flip: True                          \t[default: False]\n",
      "                     norm: batch                         \n",
      "                    ntest: inf                           \n",
      "                 num_test: 50                            \n",
      "              num_threads: 0                             \t[default: 4]\n",
      "                output_nc: 1                             \t[default: 3]\n",
      "                    phase: test                          \n",
      "               preprocess: resize_and_crop               \n",
      "              results_dir: ./results/                    \n",
      "                     seed: 0                             \n",
      "           serial_batches: True                          \t[default: False]\n",
      "                   suffix:                               \n",
      "                  verbose: True                          \t[default: False]\n",
      "----------------- End -------------------\n",
      "''/A is not a valid directory\n",
      "''/B is not a valid directory\n",
      "A size:  0\n",
      "B size:  0\n",
      "initialize network with normal\n",
      "model [RssMap2RssMapModel] was created\n"
     ]
    }
   ],
   "source": [
    "# hack to avoid passing command-line arguments\n",
    "sys.argv = [\"--seed=666\", \"--gpu_ids=1\",\n",
    "            \"--dataroot=''\", \"--name=rss_v3_8\",\n",
    "            \"--model=rssmap2rssmap\", \"--input_nc=1\",\n",
    "            \"--output_nc=1\", \"--norm=batch\",\n",
    "            \"--dataset_mode=rss\", \"--num_threads=0\",\n",
    "            \"--batch_size=1\", \"--netG=unet_64\",\n",
    "            \"--verbose\", \"--no_flip\", \"--serial_batches\"]\n",
    "opt = TestOptions().parse()  # get test options\n",
    "opt.display_id = -1 # do not use visdom; we will save plots ourselves\n",
    "\n",
    "dataset = RSSDataset(opt)\n",
    "model = create_model(opt)"
   ]
  },
  {
   "cell_type": "code",
   "execution_count": 9,
   "metadata": {
    "collapsed": false
   },
   "outputs": [],
   "source": [
    "def test_single(A_path):\n",
    "    with open(A_path, 'rb') as f:\n",
    "        data_A = pickle.load(f)\n",
    "    if data_A[1] is None:\n",
    "        return\n",
    "    \n",
    "    # Extract ground truth from file\n",
    "    date, time, dev, mac, pkt_type = file_info(A_path)\n",
    "    map_A, x, y = data_A[0], *data_A[1]\n",
    "    loc = np.array([x, y])\n",
    "    \n",
    "    # Prepare image as model input\n",
    "    map_A = torch.tensor(dataset.normalize_data(map_A), dtype=torch.float32)\n",
    "    map_A = map_A.view((1, map_A.size()[0], -1)).unsqueeze(0)\n",
    "\n",
    "    tx_loc_np = (loc - 32.) / 64.\n",
    "    # `normalize_loc` is not correct here: input coords are i [0,64] range, not [-5,5]\n",
    "    #tx_loc_np = dataset.normalize_loc(loc)\n",
    "    tx_loc = torch.tensor(tx_loc_np).float()\n",
    "    tx_pwr_np = dataset.normalize_data(np.array([-34])) # hack; figure this out!\n",
    "    tx_pwr = torch.tensor(tx_pwr_np).float()\n",
    "    tx_loc_pwr = torch.cat((tx_loc, tx_pwr))\n",
    "\n",
    "    # Pack input data\n",
    "    data = {'A': map_A, 'B': map_A, 'A_paths': A_path, 'B_paths': A_path, 'tx_loc_pwr': tx_loc_pwr}\n",
    "    \n",
    "    realA = map_A.squeeze().numpy()\n",
    "    \n",
    "    # Forward and extract visuals\n",
    "    model.set_input(data)\n",
    "    model.test()\n",
    "    visuals = model.get_current_visuals()\n",
    "    visuals_np = {}\n",
    "    for v in visuals:\n",
    "        t = visuals[v]\n",
    "        visuals_np[v] = t.cpu().float().squeeze().numpy()\n",
    "    \n",
    "    # Extract transmitter location from latent space\n",
    "    task_tx_loc = model.latent[:2].cpu().float().squeeze().numpy()\n",
    "    \n",
    "    #return realA, realB, visuals_np, tx_loc_np, tx_pwr_np, task_tx_loc\n",
    "    return realA, visuals_np, loc, task_tx_loc"
   ]
  },
  {
   "cell_type": "code",
   "execution_count": 37,
   "metadata": {
    "collapsed": false
   },
   "outputs": [],
   "source": [
    "def l2(x):\n",
    "    from math import sqrt\n",
    "    return sqrt(np.sum(x**2))\n",
    "\n",
    "def test(epoch):\n",
    "    print(\"Testing on epoch \", epoch)\n",
    "    opt.epoch = epoch\n",
    "    opt.load_iter = 0\n",
    "    model.setup(opt)\n",
    "    \n",
    "    diffs = []\n",
    "    for idx, fname in enumerate(files):\n",
    "        res = test_single(fname)\n",
    "        if res is None:\n",
    "            continue\n",
    "\n",
    "        _, _, loc, task_loc = res\n",
    "        loc = (loc - 32.) / 64.\n",
    "        diffs.append(l2(loc[::-1] - task_loc))\n",
    "\n",
    "    diffs = np.array(diffs)\n",
    "    return diffs.mean(), diffs.std(), diffs.min(), diffs.max()"
   ]
  },
  {
   "cell_type": "code",
   "execution_count": 40,
   "metadata": {
    "collapsed": false,
    "scrolled": false
   },
   "outputs": [],
   "source": [
    "# Testing...\n",
    "# ---------------------\n",
    "opt.epoch = 200\n",
    "opt.load_iter = 0\n",
    "model.setup(opt)\n",
    "idx = -16\n",
    "\n",
    "_, _, loc, task_loc = test_single(files[idx])\n",
    "print((loc - 32.) / 64., \"\\n\", task_loc)\n",
    "\n",
    "from IPython.display import Image\n",
    "Image(filename=files_png[idx]) "
   ]
  },
  {
   "cell_type": "markdown",
   "metadata": {},
   "source": [
    "## Localization statistics"
   ]
  },
  {
   "cell_type": "code",
   "execution_count": 38,
   "metadata": {
    "collapsed": false
   },
   "outputs": [
    {
     "name": "stdout",
     "output_type": "stream",
     "text": [
      "CPU times: user 4.63 s, sys: 544 ms, total: 5.18 s\n",
      "Wall time: 5.17 s\n"
     ]
    }
   ],
   "source": [
    "%%time\n",
    "%%capture\n",
    "test_epoches = range(0,201,50)\n",
    "diffs = []\n",
    "for epoch in test_epoches:\n",
    "    diffs.append(test(epoch))"
   ]
  },
  {
   "cell_type": "code",
   "execution_count": 39,
   "metadata": {
    "collapsed": false,
    "scrolled": true
   },
   "outputs": [
    {
     "data": {
      "text/plain": [
       "<ErrorbarContainer object of 3 artists>"
      ]
     },
     "execution_count": 39,
     "metadata": {},
     "output_type": "execute_result"
    },
    {
     "data": {
      "image/png": "[encoded data removed]",
      "text/plain": [
       "<Figure size 432x288 with 1 Axes>"
      ]
     },
     "metadata": {
      "needs_background": "light"
     },
     "output_type": "display_data"
    }
   ],
   "source": [
    "plt.figure()\n",
    "plt.xlabel(\"Epoch\")\n",
    "plt.ylabel(\"Error (normalized)\")\n",
    "plt.title(\"Localization error\")\n",
    "\n",
    "test_epoches = list(test_epoches)\n",
    "diffs = np.array(diffs)\n",
    "means = diffs[:,0]\n",
    "stds = diffs[:,1]\n",
    "plt.errorbar(test_epoches, means, stds, marker=\"s\", linestyle=\"--\", color=\"blue\", capsize=4)"
   ]
  },
  {
   "cell_type": "code",
   "execution_count": 13,
   "metadata": {
    "collapsed": true
   },
   "outputs": [],
   "source": [
    "import json\n",
    "# Hack to serialize numpy arrays\n",
    "class NPEncoder(json.JSONEncoder):\n",
    "    def default(self, obj):\n",
    "        if isinstance(obj, np.ndarray):\n",
    "            return obj.tolist()\n",
    "        return json.JSONEncoder.default(self, obj)"
   ]
  },
  {
   "cell_type": "code",
   "execution_count": 14,
   "metadata": {
    "collapsed": false
   },
   "outputs": [
    {
     "data": {
      "text/plain": [
       "'[[0.8859884037315026, 0.413172029961274, 0.09907162515051349, 2.2960095753235854], [0.5849970874299217, 0.25685632675077896, 0.03260411700013247, 1.0894651461756089], [0.5685516132763204, 0.25572831445481464, 0.023943218398378402, 1.0338779536551512], [0.4840089685694672, 0.19525007929840463, 0.08395442024325561, 0.9278440355197553], [0.5348360558118271, 0.21691044734602744, 0.10269995392546438, 1.0772229753931317]]'"
      ]
     },
     "execution_count": 14,
     "metadata": {},
     "output_type": "execute_result"
    }
   ],
   "source": [
    "json.dumps(diffs, cls=NPEncoder)"
   ]
  }
 ],
 "metadata": {
  "kernelspec": {
   "display_name": "Python 3",
   "language": "python",
   "name": "python3"
  },
  "language_info": {
   "codemirror_mode": {
    "name": "ipython",
    "version": 3
   },
   "file_extension": ".py",
   "mimetype": "text/x-python",
   "name": "python",
   "nbconvert_exporter": "python",
   "pygments_lexer": "ipython3",
   "version": "3.7.3"
  }
 },
 "nbformat": 4,
 "nbformat_minor": 1
}
